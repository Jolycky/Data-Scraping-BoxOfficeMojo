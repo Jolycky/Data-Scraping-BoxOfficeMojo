{
  "nbformat": 4,
  "nbformat_minor": 0,
  "metadata": {
    "colab": {
      "provenance": [],
      "collapsed_sections": [
        "XCycdvh0bFhU"
      ]
    },
    "kernelspec": {
      "name": "python3",
      "display_name": "Python 3"
    },
    "language_info": {
      "name": "python"
    }
  },
  "cells": [
    {
      "cell_type": "markdown",
      "source": [
        "# Instalation and import module"
      ],
      "metadata": {
        "id": "XCycdvh0bFhU"
      }
    },
    {
      "cell_type": "code",
      "source": [
        "!pip3 install scrapy"
      ],
      "metadata": {
        "colab": {
          "base_uri": "https://localhost:8080/"
        },
        "id": "SZn1J8L8dRc5",
        "outputId": "dbf2bd81-0295-42fc-d43d-8d54332a201e"
      },
      "execution_count": 1,
      "outputs": [
        {
          "output_type": "stream",
          "name": "stdout",
          "text": [
            "Requirement already satisfied: scrapy in /usr/local/lib/python3.10/dist-packages (2.11.1)\n",
            "Requirement already satisfied: Twisted>=18.9.0 in /usr/local/lib/python3.10/dist-packages (from scrapy) (24.3.0)\n",
            "Requirement already satisfied: cryptography>=36.0.0 in /usr/local/lib/python3.10/dist-packages (from scrapy) (42.0.5)\n",
            "Requirement already satisfied: cssselect>=0.9.1 in /usr/local/lib/python3.10/dist-packages (from scrapy) (1.2.0)\n",
            "Requirement already satisfied: itemloaders>=1.0.1 in /usr/local/lib/python3.10/dist-packages (from scrapy) (1.2.0)\n",
            "Requirement already satisfied: parsel>=1.5.0 in /usr/local/lib/python3.10/dist-packages (from scrapy) (1.9.1)\n",
            "Requirement already satisfied: pyOpenSSL>=21.0.0 in /usr/local/lib/python3.10/dist-packages (from scrapy) (24.1.0)\n",
            "Requirement already satisfied: queuelib>=1.4.2 in /usr/local/lib/python3.10/dist-packages (from scrapy) (1.7.0)\n",
            "Requirement already satisfied: service-identity>=18.1.0 in /usr/local/lib/python3.10/dist-packages (from scrapy) (24.1.0)\n",
            "Requirement already satisfied: w3lib>=1.17.0 in /usr/local/lib/python3.10/dist-packages (from scrapy) (2.1.2)\n",
            "Requirement already satisfied: zope.interface>=5.1.0 in /usr/local/lib/python3.10/dist-packages (from scrapy) (6.3)\n",
            "Requirement already satisfied: protego>=0.1.15 in /usr/local/lib/python3.10/dist-packages (from scrapy) (0.3.1)\n",
            "Requirement already satisfied: itemadapter>=0.1.0 in /usr/local/lib/python3.10/dist-packages (from scrapy) (0.8.0)\n",
            "Requirement already satisfied: setuptools in /usr/local/lib/python3.10/dist-packages (from scrapy) (67.7.2)\n",
            "Requirement already satisfied: packaging in /usr/local/lib/python3.10/dist-packages (from scrapy) (24.0)\n",
            "Requirement already satisfied: tldextract in /usr/local/lib/python3.10/dist-packages (from scrapy) (5.1.2)\n",
            "Requirement already satisfied: lxml>=4.4.1 in /usr/local/lib/python3.10/dist-packages (from scrapy) (4.9.4)\n",
            "Requirement already satisfied: PyDispatcher>=2.0.5 in /usr/local/lib/python3.10/dist-packages (from scrapy) (2.0.7)\n",
            "Requirement already satisfied: cffi>=1.12 in /usr/local/lib/python3.10/dist-packages (from cryptography>=36.0.0->scrapy) (1.16.0)\n",
            "Requirement already satisfied: jmespath>=0.9.5 in /usr/local/lib/python3.10/dist-packages (from itemloaders>=1.0.1->scrapy) (1.0.1)\n",
            "Requirement already satisfied: attrs>=19.1.0 in /usr/local/lib/python3.10/dist-packages (from service-identity>=18.1.0->scrapy) (23.2.0)\n",
            "Requirement already satisfied: pyasn1 in /usr/local/lib/python3.10/dist-packages (from service-identity>=18.1.0->scrapy) (0.6.0)\n",
            "Requirement already satisfied: pyasn1-modules in /usr/local/lib/python3.10/dist-packages (from service-identity>=18.1.0->scrapy) (0.4.0)\n",
            "Requirement already satisfied: automat>=0.8.0 in /usr/local/lib/python3.10/dist-packages (from Twisted>=18.9.0->scrapy) (22.10.0)\n",
            "Requirement already satisfied: constantly>=15.1 in /usr/local/lib/python3.10/dist-packages (from Twisted>=18.9.0->scrapy) (23.10.4)\n",
            "Requirement already satisfied: hyperlink>=17.1.1 in /usr/local/lib/python3.10/dist-packages (from Twisted>=18.9.0->scrapy) (21.0.0)\n",
            "Requirement already satisfied: incremental>=22.10.0 in /usr/local/lib/python3.10/dist-packages (from Twisted>=18.9.0->scrapy) (22.10.0)\n",
            "Requirement already satisfied: typing-extensions>=4.2.0 in /usr/local/lib/python3.10/dist-packages (from Twisted>=18.9.0->scrapy) (4.11.0)\n",
            "Requirement already satisfied: idna in /usr/local/lib/python3.10/dist-packages (from tldextract->scrapy) (3.7)\n",
            "Requirement already satisfied: requests>=2.1.0 in /usr/local/lib/python3.10/dist-packages (from tldextract->scrapy) (2.31.0)\n",
            "Requirement already satisfied: requests-file>=1.4 in /usr/local/lib/python3.10/dist-packages (from tldextract->scrapy) (2.0.0)\n",
            "Requirement already satisfied: filelock>=3.0.8 in /usr/local/lib/python3.10/dist-packages (from tldextract->scrapy) (3.14.0)\n",
            "Requirement already satisfied: six in /usr/local/lib/python3.10/dist-packages (from automat>=0.8.0->Twisted>=18.9.0->scrapy) (1.16.0)\n",
            "Requirement already satisfied: pycparser in /usr/local/lib/python3.10/dist-packages (from cffi>=1.12->cryptography>=36.0.0->scrapy) (2.22)\n",
            "Requirement already satisfied: charset-normalizer<4,>=2 in /usr/local/lib/python3.10/dist-packages (from requests>=2.1.0->tldextract->scrapy) (3.3.2)\n",
            "Requirement already satisfied: urllib3<3,>=1.21.1 in /usr/local/lib/python3.10/dist-packages (from requests>=2.1.0->tldextract->scrapy) (2.0.7)\n",
            "Requirement already satisfied: certifi>=2017.4.17 in /usr/local/lib/python3.10/dist-packages (from requests>=2.1.0->tldextract->scrapy) (2024.2.2)\n"
          ]
        }
      ]
    },
    {
      "cell_type": "code",
      "source": [
        "import scrapy\n",
        "from scrapy.crawler import CrawlerProcess\n",
        "from scrapy.spiders import CrawlSpider, Rule\n",
        "from scrapy.linkextractors import LinkExtractor"
      ],
      "metadata": {
        "id": "bhnp6dCSbhfa"
      },
      "execution_count": 6,
      "outputs": []
    },
    {
      "cell_type": "markdown",
      "source": [
        "# Data Crawling"
      ],
      "metadata": {
        "id": "V59dTRHbbNDW"
      }
    },
    {
      "cell_type": "code",
      "source": [
        "class MovieTitleSpider(scrapy.Spider):\n",
        "    name = 'movie_title_spider'\n",
        "    start_urls = ['https://www.boxofficemojo.com/year/2024/?area=ID']\n",
        "\n",
        "    def parse(self, response):\n",
        "        # Extracting data for each movie\n",
        "        titles = response.css('td.a-text-left.mojo-field-type-release.mojo-cell-wide > a.a-link-normal::text').getall()\n",
        "        revenues = response.css('td.a-text-right.mojo-field-type-money.mojo-estimatable::text').getall()\n",
        "        studios = response.css('td.a-text-left.mojo-field-type-studio > a.a-link-normal::text').getall()\n",
        "\n",
        "        for title, revenue, studio in zip(titles, revenues, studios):\n",
        "            yield {\n",
        "                'title': title,\n",
        "                'revenue': revenue,\n",
        "                'studio': studio\n",
        "            }"
      ],
      "metadata": {
        "id": "njhnlC_5ejwW"
      },
      "execution_count": 3,
      "outputs": []
    },
    {
      "cell_type": "code",
      "source": [
        "process = CrawlerProcess(settings={'FEEDS': {'movies.csv': {'format': 'csv'}}})\n",
        "process.crawl(MovieTitleSpider)\n",
        "process.start()\n"
      ],
      "metadata": {
        "colab": {
          "base_uri": "https://localhost:8080/"
        },
        "id": "SlbdaVl5b2ZH",
        "outputId": "1449270f-4473-47dc-c0a9-dca083901068"
      },
      "execution_count": 4,
      "outputs": [
        {
          "output_type": "stream",
          "name": "stderr",
          "text": [
            "INFO:scrapy.utils.log:Scrapy 2.11.1 started (bot: scrapybot)\n",
            "2024-05-06 06:21:49 [scrapy.utils.log] INFO: Scrapy 2.11.1 started (bot: scrapybot)\n",
            "INFO:scrapy.utils.log:Versions: lxml 4.9.4.0, libxml2 2.10.3, cssselect 1.2.0, parsel 1.9.1, w3lib 2.1.2, Twisted 24.3.0, Python 3.10.12 (main, Nov 20 2023, 15:14:05) [GCC 11.4.0], pyOpenSSL 24.1.0 (OpenSSL 3.2.1 30 Jan 2024), cryptography 42.0.5, Platform Linux-6.1.58+-x86_64-with-glibc2.35\n",
            "2024-05-06 06:21:49 [scrapy.utils.log] INFO: Versions: lxml 4.9.4.0, libxml2 2.10.3, cssselect 1.2.0, parsel 1.9.1, w3lib 2.1.2, Twisted 24.3.0, Python 3.10.12 (main, Nov 20 2023, 15:14:05) [GCC 11.4.0], pyOpenSSL 24.1.0 (OpenSSL 3.2.1 30 Jan 2024), cryptography 42.0.5, Platform Linux-6.1.58+-x86_64-with-glibc2.35\n",
            "INFO:scrapy.addons:Enabled addons:\n",
            "[]\n",
            "2024-05-06 06:21:49 [scrapy.addons] INFO: Enabled addons:\n",
            "[]\n",
            "/usr/local/lib/python3.10/dist-packages/scrapy/utils/request.py:254: ScrapyDeprecationWarning: '2.6' is a deprecated value for the 'REQUEST_FINGERPRINTER_IMPLEMENTATION' setting.\n",
            "\n",
            "It is also the default value. In other words, it is normal to get this warning if you have not defined a value for the 'REQUEST_FINGERPRINTER_IMPLEMENTATION' setting. This is so for backward compatibility reasons, but it will change in a future version of Scrapy.\n",
            "\n",
            "See the documentation of the 'REQUEST_FINGERPRINTER_IMPLEMENTATION' setting for information on how to handle this deprecation.\n",
            "  return cls(crawler)\n",
            "DEBUG:scrapy.utils.log:Using reactor: twisted.internet.epollreactor.EPollReactor\n",
            "2024-05-06 06:21:49 [scrapy.utils.log] DEBUG: Using reactor: twisted.internet.epollreactor.EPollReactor\n",
            "INFO:scrapy.extensions.telnet:Telnet Password: 223c831e3b416d8c\n",
            "2024-05-06 06:21:49 [scrapy.extensions.telnet] INFO: Telnet Password: 223c831e3b416d8c\n",
            "INFO:scrapy.middleware:Enabled extensions:\n",
            "['scrapy.extensions.corestats.CoreStats',\n",
            " 'scrapy.extensions.telnet.TelnetConsole',\n",
            " 'scrapy.extensions.memusage.MemoryUsage',\n",
            " 'scrapy.extensions.feedexport.FeedExporter',\n",
            " 'scrapy.extensions.logstats.LogStats']\n",
            "2024-05-06 06:21:49 [scrapy.middleware] INFO: Enabled extensions:\n",
            "['scrapy.extensions.corestats.CoreStats',\n",
            " 'scrapy.extensions.telnet.TelnetConsole',\n",
            " 'scrapy.extensions.memusage.MemoryUsage',\n",
            " 'scrapy.extensions.feedexport.FeedExporter',\n",
            " 'scrapy.extensions.logstats.LogStats']\n",
            "INFO:scrapy.crawler:Overridden settings:\n",
            "{}\n",
            "2024-05-06 06:21:49 [scrapy.crawler] INFO: Overridden settings:\n",
            "{}\n",
            "INFO:scrapy.middleware:Enabled downloader middlewares:\n",
            "['scrapy.downloadermiddlewares.httpauth.HttpAuthMiddleware',\n",
            " 'scrapy.downloadermiddlewares.downloadtimeout.DownloadTimeoutMiddleware',\n",
            " 'scrapy.downloadermiddlewares.defaultheaders.DefaultHeadersMiddleware',\n",
            " 'scrapy.downloadermiddlewares.useragent.UserAgentMiddleware',\n",
            " 'scrapy.downloadermiddlewares.retry.RetryMiddleware',\n",
            " 'scrapy.downloadermiddlewares.redirect.MetaRefreshMiddleware',\n",
            " 'scrapy.downloadermiddlewares.httpcompression.HttpCompressionMiddleware',\n",
            " 'scrapy.downloadermiddlewares.redirect.RedirectMiddleware',\n",
            " 'scrapy.downloadermiddlewares.cookies.CookiesMiddleware',\n",
            " 'scrapy.downloadermiddlewares.httpproxy.HttpProxyMiddleware',\n",
            " 'scrapy.downloadermiddlewares.stats.DownloaderStats']\n",
            "2024-05-06 06:21:49 [scrapy.middleware] INFO: Enabled downloader middlewares:\n",
            "['scrapy.downloadermiddlewares.httpauth.HttpAuthMiddleware',\n",
            " 'scrapy.downloadermiddlewares.downloadtimeout.DownloadTimeoutMiddleware',\n",
            " 'scrapy.downloadermiddlewares.defaultheaders.DefaultHeadersMiddleware',\n",
            " 'scrapy.downloadermiddlewares.useragent.UserAgentMiddleware',\n",
            " 'scrapy.downloadermiddlewares.retry.RetryMiddleware',\n",
            " 'scrapy.downloadermiddlewares.redirect.MetaRefreshMiddleware',\n",
            " 'scrapy.downloadermiddlewares.httpcompression.HttpCompressionMiddleware',\n",
            " 'scrapy.downloadermiddlewares.redirect.RedirectMiddleware',\n",
            " 'scrapy.downloadermiddlewares.cookies.CookiesMiddleware',\n",
            " 'scrapy.downloadermiddlewares.httpproxy.HttpProxyMiddleware',\n",
            " 'scrapy.downloadermiddlewares.stats.DownloaderStats']\n",
            "INFO:scrapy.middleware:Enabled spider middlewares:\n",
            "['scrapy.spidermiddlewares.httperror.HttpErrorMiddleware',\n",
            " 'scrapy.spidermiddlewares.offsite.OffsiteMiddleware',\n",
            " 'scrapy.spidermiddlewares.referer.RefererMiddleware',\n",
            " 'scrapy.spidermiddlewares.urllength.UrlLengthMiddleware',\n",
            " 'scrapy.spidermiddlewares.depth.DepthMiddleware']\n",
            "2024-05-06 06:21:49 [scrapy.middleware] INFO: Enabled spider middlewares:\n",
            "['scrapy.spidermiddlewares.httperror.HttpErrorMiddleware',\n",
            " 'scrapy.spidermiddlewares.offsite.OffsiteMiddleware',\n",
            " 'scrapy.spidermiddlewares.referer.RefererMiddleware',\n",
            " 'scrapy.spidermiddlewares.urllength.UrlLengthMiddleware',\n",
            " 'scrapy.spidermiddlewares.depth.DepthMiddleware']\n",
            "INFO:scrapy.middleware:Enabled item pipelines:\n",
            "[]\n",
            "2024-05-06 06:21:49 [scrapy.middleware] INFO: Enabled item pipelines:\n",
            "[]\n",
            "INFO:scrapy.core.engine:Spider opened\n",
            "2024-05-06 06:21:49 [scrapy.core.engine] INFO: Spider opened\n",
            "INFO:scrapy.extensions.logstats:Crawled 0 pages (at 0 pages/min), scraped 0 items (at 0 items/min)\n",
            "2024-05-06 06:21:49 [scrapy.extensions.logstats] INFO: Crawled 0 pages (at 0 pages/min), scraped 0 items (at 0 items/min)\n",
            "INFO:scrapy.extensions.telnet:Telnet console listening on 127.0.0.1:6023\n",
            "2024-05-06 06:21:49 [scrapy.extensions.telnet] INFO: Telnet console listening on 127.0.0.1:6023\n",
            "DEBUG:scrapy.core.engine:Crawled (200) <GET https://www.boxofficemojo.com/year/2024/?area=ID> (referer: None)\n",
            "2024-05-06 06:21:50 [scrapy.core.engine] DEBUG: Crawled (200) <GET https://www.boxofficemojo.com/year/2024/?area=ID> (referer: None)\n",
            "DEBUG:scrapy.core.scraper:Scraped from <200 https://www.boxofficemojo.com/year/2024/?area=ID>\n",
            "{'title': 'Godzilla x Kong: The New Empire', 'revenue': '$9,000,000', 'studio': 'Warner Bros.'}\n",
            "2024-05-06 06:21:50 [scrapy.core.scraper] DEBUG: Scraped from <200 https://www.boxofficemojo.com/year/2024/?area=ID>\n",
            "{'title': 'Godzilla x Kong: The New Empire', 'revenue': '$9,000,000', 'studio': 'Warner Bros.'}\n",
            "DEBUG:scrapy.core.scraper:Scraped from <200 https://www.boxofficemojo.com/year/2024/?area=ID>\n",
            "{'title': 'Kung Fu Panda 4', 'revenue': '$9,000,000', 'studio': 'Walt Disney Pictures'}\n",
            "2024-05-06 06:21:50 [scrapy.core.scraper] DEBUG: Scraped from <200 https://www.boxofficemojo.com/year/2024/?area=ID>\n",
            "{'title': 'Kung Fu Panda 4', 'revenue': '$9,000,000', 'studio': 'Walt Disney Pictures'}\n",
            "DEBUG:scrapy.core.scraper:Scraped from <200 https://www.boxofficemojo.com/year/2024/?area=ID>\n",
            "{'title': 'The First Omen', 'revenue': '$3,721,663', 'studio': 'Sony Pictures Releasing'}\n",
            "2024-05-06 06:21:50 [scrapy.core.scraper] DEBUG: Scraped from <200 https://www.boxofficemojo.com/year/2024/?area=ID>\n",
            "{'title': 'The First Omen', 'revenue': '$3,721,663', 'studio': 'Sony Pictures Releasing'}\n",
            "DEBUG:scrapy.core.scraper:Scraped from <200 https://www.boxofficemojo.com/year/2024/?area=ID>\n",
            "{'title': 'Ghostbusters: Frozen Empire', 'revenue': '$4,907,557', 'studio': 'Universal Pictures International (UPI)'}\n",
            "2024-05-06 06:21:50 [scrapy.core.scraper] DEBUG: Scraped from <200 https://www.boxofficemojo.com/year/2024/?area=ID>\n",
            "{'title': 'Ghostbusters: Frozen Empire', 'revenue': '$4,907,557', 'studio': 'Universal Pictures International (UPI)'}\n",
            "DEBUG:scrapy.core.scraper:Scraped from <200 https://www.boxofficemojo.com/year/2024/?area=ID>\n",
            "{'title': 'Night Swim', 'revenue': '$1,778,547', 'studio': 'Universal Pictures International (UPI)'}\n",
            "2024-05-06 06:21:50 [scrapy.core.scraper] DEBUG: Scraped from <200 https://www.boxofficemojo.com/year/2024/?area=ID>\n",
            "{'title': 'Night Swim', 'revenue': '$1,778,547', 'studio': 'Universal Pictures International (UPI)'}\n",
            "DEBUG:scrapy.core.scraper:Scraped from <200 https://www.boxofficemojo.com/year/2024/?area=ID>\n",
            "{'title': 'Migration', 'revenue': '$1,778,547', 'studio': 'Paramount Pictures International'}\n",
            "2024-05-06 06:21:50 [scrapy.core.scraper] DEBUG: Scraped from <200 https://www.boxofficemojo.com/year/2024/?area=ID>\n",
            "{'title': 'Migration', 'revenue': '$1,778,547', 'studio': 'Paramount Pictures International'}\n",
            "DEBUG:scrapy.core.scraper:Scraped from <200 https://www.boxofficemojo.com/year/2024/?area=ID>\n",
            "{'title': 'The Fall Guy', 'revenue': '$600,000', 'studio': 'Falcon'}\n",
            "2024-05-06 06:21:50 [scrapy.core.scraper] DEBUG: Scraped from <200 https://www.boxofficemojo.com/year/2024/?area=ID>\n",
            "{'title': 'The Fall Guy', 'revenue': '$600,000', 'studio': 'Falcon'}\n",
            "DEBUG:scrapy.core.scraper:Scraped from <200 https://www.boxofficemojo.com/year/2024/?area=ID>\n",
            "{'title': 'Argylle', 'revenue': '$600,000', 'studio': 'Universal Pictures International (UPI)'}\n",
            "2024-05-06 06:21:50 [scrapy.core.scraper] DEBUG: Scraped from <200 https://www.boxofficemojo.com/year/2024/?area=ID>\n",
            "{'title': 'Argylle', 'revenue': '$600,000', 'studio': 'Universal Pictures International (UPI)'}\n",
            "DEBUG:scrapy.core.scraper:Scraped from <200 https://www.boxofficemojo.com/year/2024/?area=ID>\n",
            "{'title': 'Bob Marley: One Love', 'revenue': '$300,154', 'studio': 'Walt Disney Pictures'}\n",
            "2024-05-06 06:21:50 [scrapy.core.scraper] DEBUG: Scraped from <200 https://www.boxofficemojo.com/year/2024/?area=ID>\n",
            "{'title': 'Bob Marley: One Love', 'revenue': '$300,154', 'studio': 'Walt Disney Pictures'}\n",
            "DEBUG:scrapy.core.scraper:Scraped from <200 https://www.boxofficemojo.com/year/2024/?area=ID>\n",
            "{'title': 'The Zone of Interest', 'revenue': '$438,758', 'studio': 'Universal Pictures International (UPI)'}\n",
            "2024-05-06 06:21:50 [scrapy.core.scraper] DEBUG: Scraped from <200 https://www.boxofficemojo.com/year/2024/?area=ID>\n",
            "{'title': 'The Zone of Interest', 'revenue': '$438,758', 'studio': 'Universal Pictures International (UPI)'}\n",
            "INFO:scrapy.core.engine:Closing spider (finished)\n",
            "2024-05-06 06:21:50 [scrapy.core.engine] INFO: Closing spider (finished)\n",
            "INFO:scrapy.extensions.feedexport:Stored csv feed (10 items) in: movies.csv\n",
            "2024-05-06 06:21:50 [scrapy.extensions.feedexport] INFO: Stored csv feed (10 items) in: movies.csv\n",
            "INFO:scrapy.statscollectors:Dumping Scrapy stats:\n",
            "{'downloader/request_bytes': 240,\n",
            " 'downloader/request_count': 1,\n",
            " 'downloader/request_method_count/GET': 1,\n",
            " 'downloader/response_bytes': 49848,\n",
            " 'downloader/response_count': 1,\n",
            " 'downloader/response_status_count/200': 1,\n",
            " 'elapsed_time_seconds': 0.997519,\n",
            " 'feedexport/success_count/FileFeedStorage': 1,\n",
            " 'finish_reason': 'finished',\n",
            " 'finish_time': datetime.datetime(2024, 5, 6, 6, 21, 50, 490185, tzinfo=datetime.timezone.utc),\n",
            " 'httpcompression/response_bytes': 148575,\n",
            " 'httpcompression/response_count': 1,\n",
            " 'item_scraped_count': 10,\n",
            " 'log_count/DEBUG': 12,\n",
            " 'log_count/INFO': 11,\n",
            " 'memusage/max': 134303744,\n",
            " 'memusage/startup': 134303744,\n",
            " 'response_received_count': 1,\n",
            " 'scheduler/dequeued': 1,\n",
            " 'scheduler/dequeued/memory': 1,\n",
            " 'scheduler/enqueued': 1,\n",
            " 'scheduler/enqueued/memory': 1,\n",
            " 'start_time': datetime.datetime(2024, 5, 6, 6, 21, 49, 492666, tzinfo=datetime.timezone.utc)}\n",
            "2024-05-06 06:21:50 [scrapy.statscollectors] INFO: Dumping Scrapy stats:\n",
            "{'downloader/request_bytes': 240,\n",
            " 'downloader/request_count': 1,\n",
            " 'downloader/request_method_count/GET': 1,\n",
            " 'downloader/response_bytes': 49848,\n",
            " 'downloader/response_count': 1,\n",
            " 'downloader/response_status_count/200': 1,\n",
            " 'elapsed_time_seconds': 0.997519,\n",
            " 'feedexport/success_count/FileFeedStorage': 1,\n",
            " 'finish_reason': 'finished',\n",
            " 'finish_time': datetime.datetime(2024, 5, 6, 6, 21, 50, 490185, tzinfo=datetime.timezone.utc),\n",
            " 'httpcompression/response_bytes': 148575,\n",
            " 'httpcompression/response_count': 1,\n",
            " 'item_scraped_count': 10,\n",
            " 'log_count/DEBUG': 12,\n",
            " 'log_count/INFO': 11,\n",
            " 'memusage/max': 134303744,\n",
            " 'memusage/startup': 134303744,\n",
            " 'response_received_count': 1,\n",
            " 'scheduler/dequeued': 1,\n",
            " 'scheduler/dequeued/memory': 1,\n",
            " 'scheduler/enqueued': 1,\n",
            " 'scheduler/enqueued/memory': 1,\n",
            " 'start_time': datetime.datetime(2024, 5, 6, 6, 21, 49, 492666, tzinfo=datetime.timezone.utc)}\n",
            "INFO:scrapy.core.engine:Spider closed (finished)\n",
            "2024-05-06 06:21:50 [scrapy.core.engine] INFO: Spider closed (finished)\n"
          ]
        }
      ]
    }
  ]
}